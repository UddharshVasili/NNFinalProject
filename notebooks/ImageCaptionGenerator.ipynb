{
 "cells": [
  {
   "cell_type": "markdown",
   "metadata": {},
   "source": [
    "## Import Modules"
   ]
  },
  {
   "cell_type": "markdown",
   "metadata": {},
   "source": [
    "### STEP 1: SETUP"
   ]
  },
  {
   "cell_type": "code",
   "execution_count": 1,
   "metadata": {},
   "outputs": [],
   "source": [
    "# -> CORE LIBRARIES\n",
    "\n",
    "import os\n",
    "# os - handles files using system commands\n",
    "import pickle\n",
    "# pickle - used to store numpy features extracted\n",
    "import numpy as np\n",
    "# numpy - Core numerical library, used heavily in array processing\n",
    "\n",
    "# -> PROGRESS DISPLAY\n",
    "\n",
    "from tqdm.notebook import tqdm\n",
    "# tqdm - Shows progress bars in Jupyter notebooks when iterating over large datasets\n",
    "\n",
    "# -> PRE-TRAINED CNN - VGG16\n",
    "\n",
    "from tensorflow.keras.applications.vgg16 import VGG16, preprocess_input\n",
    "# VGG16 - A pretrained CNN used as the image encoder (removes final classification layers).\n",
    "# preprocess_input - Normalizes image pixel values to match the VGG16 training distribution.\n",
    "\n",
    "# -> Image Pre-processing\n",
    "\n",
    "from tensorflow.keras.preprocessing.image import load_img, img_to_array\n",
    "# load_img - Loads an image from file\n",
    "# img_to_array - Converts the image to a numpy array\n",
    "\n",
    "# -> Text Pre-Processing\n",
    "\n",
    "from tensorflow.keras.preprocessing.text import Tokenizer\n",
    "# Tokenizer - used for loading the text as convert them into a token\n",
    "\n",
    "# -> Sequence Padding\n",
    "\n",
    "from tensorflow.keras.preprocessing.sequence import pad_sequences\n",
    "# pad sequences - Pads caption sequences to the same length (important for batching inputs).\n",
    "\n",
    "# -> Model Base\n",
    "\n",
    "from tensorflow.keras.models import Model\n",
    "\n",
    "# -> Model Utilities\n",
    "\n",
    "from tensorflow.keras.utils import to_categorical, plot_model\n",
    "# to_categorical - Converts target words to one-hot vectors for loss computation.\n",
    "# plot_model - Creates a visual diagram of your model\n",
    "\n",
    "# -> Model Layers\n",
    "\n",
    "from tensorflow.keras.layers import Input, Dense, LSTM, Embedding, Dropout, add\n",
    "# Input - Entry points to the model (images and text)\n",
    "# Dense - Fully connected layers (e.g., mapping CNN features to embedding size).\n",
    "# LSTM - The core RNN decoder that generates captions word by word.\n",
    "# Embedding - Turns word indices into dense vector representations (word embeddings).\n",
    "# Droupout - Regularization to prevent overfitting.\n",
    "# add - Used to merge CNN features and text embeddings in a decoder block."
   ]
  },
  {
   "cell_type": "code",
   "execution_count": null,
   "metadata": {},
   "outputs": [],
   "source": []
  }
 ],
 "metadata": {
  "kernelspec": {
   "display_name": "Python 3",
   "language": "python",
   "name": "python3"
  },
  "language_info": {
   "codemirror_mode": {
    "name": "ipython",
    "version": 3
   },
   "file_extension": ".py",
   "mimetype": "text/x-python",
   "name": "python",
   "nbconvert_exporter": "python",
   "pygments_lexer": "ipython3",
   "version": "3.11.11"
  }
 },
 "nbformat": 4,
 "nbformat_minor": 2
}
